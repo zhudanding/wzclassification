{
 "cells": [
  {
   "cell_type": "code",
   "execution_count": 1,
   "metadata": {},
   "outputs": [
    {
     "name": "stderr",
     "output_type": "stream",
     "text": [
      "Using TensorFlow backend.\n"
     ]
    }
   ],
   "source": [
    "from keras.models import Sequential\n",
    "model = Sequential()\n",
    "from keras.layers import Dense, Activation\n",
    "from keras.optimizers import SGD\n",
    "from keras.optimizers import Adam\n",
    "import numpy as np\n",
    "from keras.models import load_model\n",
    "import matplotlib.pyplot as plt\n",
    "import keras\n",
    "from keras.callbacks import EarlyStopping\n",
    "%matplotlib inline"
   ]
  },
  {
   "cell_type": "code",
   "execution_count": 2,
   "metadata": {},
   "outputs": [],
   "source": [
    "class LossHistory(keras.callbacks.Callback):\n",
    "    def on_train_begin(self, logs={}):\n",
    "        self.losses = {'batch':[], 'epoch':[]}\n",
    "        self.accuracy = {'batch':[], 'epoch':[]}\n",
    "        self.val_loss = {'batch':[], 'epoch':[]}\n",
    "        self.val_acc = {'batch':[], 'epoch':[]}\n",
    "\n",
    "    def on_batch_end(self, batch, logs={}):\n",
    "        self.losses['batch'].append(logs.get('loss'))\n",
    "        self.accuracy['batch'].append(logs.get('acc'))\n",
    "        self.val_loss['batch'].append(logs.get('val_loss'))\n",
    "        self.val_acc['batch'].append(logs.get('val_acc'))\n",
    "\n",
    "    def on_epoch_end(self, batch, logs={}):\n",
    "        self.losses['epoch'].append(logs.get('loss'))\n",
    "        self.accuracy['epoch'].append(logs.get('acc'))\n",
    "        self.val_loss['epoch'].append(logs.get('val_loss'))\n",
    "        self.val_acc['epoch'].append(logs.get('val_acc'))\n",
    "\n",
    "    def loss_plot(self, loss_type):\n",
    "        iters = range(len(self.losses[loss_type]))\n",
    "        plt.figure()\n",
    "        # acc\n",
    "        plt.plot(iters, self.accuracy[loss_type], 'r', label='train acc')\n",
    "        # loss\n",
    "        plt.plot(iters, self.losses[loss_type], 'g', label='train loss')\n",
    "        if loss_type == 'epoch':\n",
    "            # val_acc\n",
    "            plt.plot(iters, self.val_acc[loss_type], 'b', label='val acc')\n",
    "            # val_loss\n",
    "            plt.plot(iters, self.val_loss[loss_type], 'k', label='val loss')\n",
    "        plt.grid(True)\n",
    "        plt.xlabel(loss_type)\n",
    "        plt.ylabel('acc-loss')\n",
    "        plt.legend(loc=\"upper right\")\n",
    "        plt.show()"
   ]
  },
  {
   "cell_type": "code",
   "execution_count": 3,
   "metadata": {},
   "outputs": [],
   "source": [
    "file_train=\"zzww_jet_train400000.csv\"\n",
    "data_train=np.loadtxt(file_train,delimiter=',')\n",
    "data_train_example=data_train[:400000,1:]\n",
    "data_train_label=data_train[:400000,0]\n",
    "\n",
    "file_val=\"zzww_jet_val80000.csv\"\n",
    "data_val=np.loadtxt(file_val,delimiter=',')\n",
    "data_val_example=data_val[:80000,1:]\n",
    "data_val_label=data_val[:80000,0]\n",
    "\n",
    "file_test=\"zzww_jet_test80000.csv\"\n",
    "data_test=np.loadtxt(file_test,delimiter=',')\n",
    "data_test_example=data_test[:80000,1:]\n",
    "data_test_label=data_test[:80000,0]"
   ]
  },
  {
   "cell_type": "code",
   "execution_count": 4,
   "metadata": {},
   "outputs": [
    {
     "name": "stdout",
     "output_type": "stream",
     "text": [
      "_________________________________________________________________\n",
      "Layer (type)                 Output Shape              Param #   \n",
      "=================================================================\n",
      "dense_1 (Dense)              (None, 16)                272       \n",
      "_________________________________________________________________\n",
      "activation_1 (Activation)    (None, 16)                0         \n",
      "_________________________________________________________________\n",
      "dense_2 (Dense)              (None, 16)                272       \n",
      "_________________________________________________________________\n",
      "activation_2 (Activation)    (None, 16)                0         \n",
      "_________________________________________________________________\n",
      "dense_3 (Dense)              (None, 16)                272       \n",
      "_________________________________________________________________\n",
      "activation_3 (Activation)    (None, 16)                0         \n",
      "_________________________________________________________________\n",
      "dense_4 (Dense)              (None, 16)                272       \n",
      "_________________________________________________________________\n",
      "activation_4 (Activation)    (None, 16)                0         \n",
      "_________________________________________________________________\n",
      "dense_5 (Dense)              (None, 16)                272       \n",
      "_________________________________________________________________\n",
      "activation_5 (Activation)    (None, 16)                0         \n",
      "_________________________________________________________________\n",
      "dense_6 (Dense)              (None, 16)                272       \n",
      "_________________________________________________________________\n",
      "activation_6 (Activation)    (None, 16)                0         \n",
      "_________________________________________________________________\n",
      "dense_7 (Dense)              (None, 1)                 17        \n",
      "_________________________________________________________________\n",
      "activation_7 (Activation)    (None, 1)                 0         \n",
      "=================================================================\n",
      "Total params: 1,649\n",
      "Trainable params: 1,649\n",
      "Non-trainable params: 0\n",
      "_________________________________________________________________\n"
     ]
    }
   ],
   "source": [
    "model.add(Dense(units=16, input_dim=16))\n",
    "model.add(Activation(\"relu\"))\n",
    "model.add(Dense(units=16))\n",
    "model.add(Activation(\"relu\"))\n",
    "model.add(Dense(units=16))\n",
    "model.add(Activation(\"relu\"))\n",
    "model.add(Dense(units=16))\n",
    "model.add(Activation(\"relu\"))\n",
    "model.add(Dense(units=16))\n",
    "model.add(Activation(\"relu\"))\n",
    "model.add(Dense(units=16))\n",
    "model.add(Activation(\"relu\"))\n",
    "model.add(Dense(units=1))\n",
    "model.add(Activation(\"sigmoid\"))\n",
    "model.summary()\n",
    "model.compile(loss='binary_crossentropy',optimizer=Adam(lr=0.001, beta_1=0.9, beta_2=0.999, epsilon=1e-08),metrics=['accuracy'])\n",
    "history=LossHistory()\n",
    "early_stopping = EarlyStopping(monitor='val_loss', patience=5)"
   ]
  },
  {
   "cell_type": "code",
   "execution_count": 5,
   "metadata": {},
   "outputs": [
    {
     "name": "stdout",
     "output_type": "stream",
     "text": [
      "Train on 400000 samples, validate on 80000 samples\n",
      "Epoch 1/500\n",
      "400000/400000 [==============================] - 22s - loss: 0.6889 - acc: 0.5467 - val_loss: 0.6823 - val_acc: 0.5702\n",
      "Epoch 2/500\n",
      "400000/400000 [==============================] - 22s - loss: 0.6805 - acc: 0.5711 - val_loss: 0.6776 - val_acc: 0.5775\n",
      "Epoch 3/500\n",
      "400000/400000 [==============================] - 23s - loss: 0.6721 - acc: 0.5820 - val_loss: 0.6658 - val_acc: 0.5881\n",
      "Epoch 4/500\n",
      "400000/400000 [==============================] - 22s - loss: 0.6651 - acc: 0.5913 - val_loss: 0.6698 - val_acc: 0.5874\n",
      "Epoch 5/500\n",
      "400000/400000 [==============================] - 23s - loss: 0.6596 - acc: 0.6003 - val_loss: 0.6555 - val_acc: 0.6074\n",
      "Epoch 6/500\n",
      "400000/400000 [==============================] - 23s - loss: 0.6523 - acc: 0.6091 - val_loss: 0.6474 - val_acc: 0.6121\n",
      "Epoch 7/500\n",
      "400000/400000 [==============================] - 19s - loss: 0.6460 - acc: 0.6153 - val_loss: 0.6435 - val_acc: 0.6160\n",
      "Epoch 8/500\n",
      "400000/400000 [==============================] - 18s - loss: 0.6408 - acc: 0.6190 - val_loss: 0.6384 - val_acc: 0.6233\n",
      "Epoch 9/500\n",
      "400000/400000 [==============================] - 18s - loss: 0.6357 - acc: 0.6230 - val_loss: 0.6375 - val_acc: 0.6215\n",
      "Epoch 10/500\n",
      "400000/400000 [==============================] - 17s - loss: 0.6318 - acc: 0.6274 - val_loss: 0.6309 - val_acc: 0.6270\n",
      "Epoch 11/500\n",
      "400000/400000 [==============================] - 18s - loss: 0.6277 - acc: 0.6307 - val_loss: 0.6248 - val_acc: 0.6323\n",
      "Epoch 12/500\n",
      "400000/400000 [==============================] - 18s - loss: 0.6234 - acc: 0.6333 - val_loss: 0.6191 - val_acc: 0.6379\n",
      "Epoch 13/500\n",
      "400000/400000 [==============================] - 18s - loss: 0.6182 - acc: 0.6365 - val_loss: 0.6208 - val_acc: 0.6383\n",
      "Epoch 14/500\n",
      "400000/400000 [==============================] - 18s - loss: 0.6144 - acc: 0.6403 - val_loss: 0.6112 - val_acc: 0.6428\n",
      "Epoch 15/500\n",
      "400000/400000 [==============================] - 17s - loss: 0.6102 - acc: 0.6443 - val_loss: 0.6120 - val_acc: 0.6406\n",
      "Epoch 16/500\n",
      "400000/400000 [==============================] - 17s - loss: 0.6056 - acc: 0.6476 - val_loss: 0.6032 - val_acc: 0.6517\n",
      "Epoch 17/500\n",
      "400000/400000 [==============================] - 18s - loss: 0.6000 - acc: 0.6520 - val_loss: 0.5932 - val_acc: 0.6572\n",
      "Epoch 18/500\n",
      "400000/400000 [==============================] - 17s - loss: 0.5966 - acc: 0.6550 - val_loss: 0.5920 - val_acc: 0.6570\n",
      "Epoch 19/500\n",
      "400000/400000 [==============================] - 18s - loss: 0.5928 - acc: 0.6576 - val_loss: 0.5890 - val_acc: 0.6607\n",
      "Epoch 20/500\n",
      "400000/400000 [==============================] - 19s - loss: 0.5888 - acc: 0.6617 - val_loss: 0.5905 - val_acc: 0.6613\n",
      "Epoch 21/500\n",
      "400000/400000 [==============================] - 20s - loss: 0.5826 - acc: 0.6661 - val_loss: 0.5762 - val_acc: 0.6691\n",
      "Epoch 22/500\n",
      "400000/400000 [==============================] - 19s - loss: 0.5771 - acc: 0.6708 - val_loss: 0.5915 - val_acc: 0.6616\n",
      "Epoch 23/500\n",
      "400000/400000 [==============================] - 18s - loss: 0.5739 - acc: 0.6724 - val_loss: 0.5704 - val_acc: 0.6737\n",
      "Epoch 24/500\n",
      "400000/400000 [==============================] - 19s - loss: 0.5719 - acc: 0.6738 - val_loss: 0.5765 - val_acc: 0.6677\n",
      "Epoch 25/500\n",
      "400000/400000 [==============================] - 17s - loss: 0.5705 - acc: 0.6751 - val_loss: 0.5664 - val_acc: 0.6763\n",
      "Epoch 26/500\n",
      "400000/400000 [==============================] - 17s - loss: 0.5691 - acc: 0.6758 - val_loss: 0.5633 - val_acc: 0.6766\n",
      "Epoch 27/500\n",
      "400000/400000 [==============================] - 16s - loss: 0.5686 - acc: 0.6767 - val_loss: 0.5685 - val_acc: 0.6762\n",
      "Epoch 28/500\n",
      "400000/400000 [==============================] - 17s - loss: 0.5674 - acc: 0.6770 - val_loss: 0.5675 - val_acc: 0.6746\n",
      "Epoch 29/500\n",
      "400000/400000 [==============================] - 18s - loss: 0.5667 - acc: 0.6782 - val_loss: 0.5717 - val_acc: 0.6735\n",
      "Epoch 30/500\n",
      "400000/400000 [==============================] - 17s - loss: 0.5655 - acc: 0.6791 - val_loss: 0.5633 - val_acc: 0.6799\n",
      "Epoch 31/500\n",
      "400000/400000 [==============================] - 17s - loss: 0.5640 - acc: 0.6800 - val_loss: 0.5631 - val_acc: 0.6798\n",
      "Epoch 32/500\n",
      "400000/400000 [==============================] - 17s - loss: 0.5634 - acc: 0.6798 - val_loss: 0.5709 - val_acc: 0.6767\n",
      "Epoch 33/500\n",
      "400000/400000 [==============================] - 14s - loss: 0.5627 - acc: 0.6810 - val_loss: 0.5643 - val_acc: 0.6797\n",
      "Epoch 34/500\n",
      "400000/400000 [==============================] - 16s - loss: 0.5625 - acc: 0.6805 - val_loss: 0.5728 - val_acc: 0.6756\n",
      "Epoch 35/500\n",
      "400000/400000 [==============================] - 15s - loss: 0.5614 - acc: 0.6812 - val_loss: 0.5658 - val_acc: 0.6797\n",
      "Epoch 36/500\n",
      "400000/400000 [==============================] - 16s - loss: 0.5612 - acc: 0.6819 - val_loss: 0.5567 - val_acc: 0.6819\n",
      "Epoch 37/500\n",
      "400000/400000 [==============================] - 17s - loss: 0.5605 - acc: 0.6821 - val_loss: 0.5606 - val_acc: 0.6831\n",
      "Epoch 38/500\n",
      "400000/400000 [==============================] - 17s - loss: 0.5601 - acc: 0.6827 - val_loss: 0.5559 - val_acc: 0.6838\n",
      "Epoch 39/500\n",
      "400000/400000 [==============================] - 16s - loss: 0.5595 - acc: 0.6829 - val_loss: 0.5652 - val_acc: 0.6802\n",
      "Epoch 40/500\n",
      "400000/400000 [==============================] - 15s - loss: 0.5595 - acc: 0.6831 - val_loss: 0.5642 - val_acc: 0.6793\n",
      "Epoch 41/500\n",
      "400000/400000 [==============================] - 16s - loss: 0.5589 - acc: 0.6840 - val_loss: 0.5565 - val_acc: 0.6842\n",
      "Epoch 42/500\n",
      "400000/400000 [==============================] - 18s - loss: 0.5585 - acc: 0.6841 - val_loss: 0.5567 - val_acc: 0.6856\n",
      "Epoch 43/500\n",
      "400000/400000 [==============================] - 15s - loss: 0.5584 - acc: 0.6838 - val_loss: 0.5558 - val_acc: 0.6847\n",
      "Epoch 44/500\n",
      "400000/400000 [==============================] - 17s - loss: 0.5582 - acc: 0.6846 - val_loss: 0.5648 - val_acc: 0.6804\n",
      "Epoch 45/500\n",
      "400000/400000 [==============================] - 16s - loss: 0.5578 - acc: 0.6847 - val_loss: 0.5553 - val_acc: 0.6839\n",
      "Epoch 46/500\n",
      "400000/400000 [==============================] - 16s - loss: 0.5576 - acc: 0.6850 - val_loss: 0.5620 - val_acc: 0.6782\n",
      "Epoch 47/500\n",
      "400000/400000 [==============================] - 17s - loss: 0.5576 - acc: 0.6846 - val_loss: 0.5631 - val_acc: 0.6809\n",
      "Epoch 48/500\n",
      "400000/400000 [==============================] - 15s - loss: 0.5570 - acc: 0.6858 - val_loss: 0.5557 - val_acc: 0.6863\n",
      "Epoch 49/500\n",
      "400000/400000 [==============================] - 17s - loss: 0.5571 - acc: 0.6853 - val_loss: 0.5551 - val_acc: 0.6868\n",
      "Epoch 50/500\n",
      "400000/400000 [==============================] - 17s - loss: 0.5567 - acc: 0.6854 - val_loss: 0.5541 - val_acc: 0.6872\n",
      "Epoch 51/500\n",
      "400000/400000 [==============================] - 19s - loss: 0.5564 - acc: 0.6856 - val_loss: 0.5543 - val_acc: 0.6845\n",
      "Epoch 52/500\n",
      "400000/400000 [==============================] - 18s - loss: 0.5560 - acc: 0.6865 - val_loss: 0.5521 - val_acc: 0.6868\n",
      "Epoch 53/500\n",
      "400000/400000 [==============================] - 17s - loss: 0.5559 - acc: 0.6866 - val_loss: 0.5557 - val_acc: 0.6863\n",
      "Epoch 54/500\n",
      "400000/400000 [==============================] - 15s - loss: 0.5557 - acc: 0.6863 - val_loss: 0.5550 - val_acc: 0.6853\n",
      "Epoch 55/500\n",
      "400000/400000 [==============================] - 16s - loss: 0.5556 - acc: 0.6866 - val_loss: 0.5569 - val_acc: 0.6862\n",
      "Epoch 56/500\n",
      "400000/400000 [==============================] - 15s - loss: 0.5557 - acc: 0.6871 - val_loss: 0.5533 - val_acc: 0.6865\n",
      "Epoch 57/500\n",
      "400000/400000 [==============================] - 15s - loss: 0.5552 - acc: 0.6873 - val_loss: 0.5563 - val_acc: 0.6849\n",
      "Epoch 58/500\n",
      "400000/400000 [==============================] - 17s - loss: 0.5554 - acc: 0.6870 - val_loss: 0.5593 - val_acc: 0.6853\n"
     ]
    },
    {
     "data": {
      "text/plain": [
       "<keras.callbacks.History at 0x1141a0b10>"
      ]
     },
     "execution_count": 5,
     "metadata": {},
     "output_type": "execute_result"
    }
   ],
   "source": [
    "model.fit(data_train_example,data_train_label,epochs=500,batch_size=100,validation_data=(data_val_example,data_val_label),callbacks=[history,early_stopping])"
   ]
  },
  {
   "cell_type": "markdown",
   "metadata": {},
   "source": [
    "model.train_on_batch(x_batch,y_batch)"
   ]
  },
  {
   "cell_type": "markdown",
   "metadata": {},
   "source": [
    "model.save('mlpjet60000.h5')"
   ]
  },
  {
   "cell_type": "markdown",
   "metadata": {},
   "source": [
    "loss_and_metrics=model.evaluate(data_test_example,data_test_label,batch_size=100)"
   ]
  },
  {
   "cell_type": "markdown",
   "metadata": {},
   "source": [
    "classes=model.predict(x_test,batch_size=128)"
   ]
  },
  {
   "cell_type": "markdown",
   "metadata": {},
   "source": [
    "输出训练好的模型在测试机上的表现"
   ]
  },
  {
   "cell_type": "markdown",
   "metadata": {},
   "source": [
    "print('test score',loss_and_metrics[0])\n",
    "print('test accuracy:',loss_and_metrics[1])"
   ]
  },
  {
   "cell_type": "code",
   "execution_count": 6,
   "metadata": {},
   "outputs": [
    {
     "name": "stdout",
     "output_type": "stream",
     "text": [
      "77900/80000 [============================>.] - ETA: 0s"
     ]
    }
   ],
   "source": [
    "score=model.evaluate(data_test_example,data_test_label,batch_size=100)\n"
   ]
  },
  {
   "cell_type": "code",
   "execution_count": 7,
   "metadata": {},
   "outputs": [
    {
     "name": "stdout",
     "output_type": "stream",
     "text": [
      "('test accuracy is:', 0.68307500205934046)\n"
     ]
    }
   ],
   "source": [
    "print ('test accuracy is:',score[1])\n"
   ]
  },
  {
   "cell_type": "code",
   "execution_count": 8,
   "metadata": {},
   "outputs": [
    {
     "data": {
      "image/png": "[encoded data removed]",
      "text/plain": [
       "<matplotlib.figure.Figure at 0x1819ee5fd0>"
      ]
     },
     "metadata": {},
     "output_type": "display_data"
    }
   ],
   "source": [
    "history.loss_plot('epoch')"
   ]
  },
  {
   "cell_type": "markdown",
   "metadata": {},
   "source": [
    "model.save(filepath)将keras模型和权重保存在一个HDFS文件中"
   ]
  }
 ],
 "metadata": {
  "kernelspec": {
   "display_name": "Python 3",
   "language": "python",
   "name": "python3"
  },
  "language_info": {
   "codemirror_mode": {
    "name": "ipython",
    "version": 2
   },
   "file_extension": ".py",
   "mimetype": "text/x-python",
   "name": "python",
   "nbconvert_exporter": "python",
   "pygments_lexer": "ipython2",
   "version": "2.7.14"
  }
 },
 "nbformat": 4,
 "nbformat_minor": 2
}
