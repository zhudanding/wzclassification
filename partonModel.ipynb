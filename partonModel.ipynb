{
 "cells": [
  {
   "cell_type": "code",
   "execution_count": 1,
   "metadata": {},
   "outputs": [
    {
     "name": "stderr",
     "output_type": "stream",
     "text": [
      "Using TensorFlow backend.\n"
     ]
    }
   ],
   "source": [
    "from keras.models import Sequential\n",
    "model = Sequential()\n",
    "from keras.layers import Dense, Activation\n",
    "from keras.optimizers import SGD\n",
    "from keras.optimizers import Adam\n",
    "import numpy as np\n",
    "from keras.models import load_model\n",
    "import matplotlib.pyplot as plt\n",
    "import keras\n",
    "from keras.callbacks import EarlyStopping\n",
    "%matplotlib inline"
   ]
  },
  {
   "cell_type": "code",
   "execution_count": 2,
   "metadata": {},
   "outputs": [],
   "source": [
    "class LossHistory(keras.callbacks.Callback):\n",
    "    def on_train_begin(self, logs={}):\n",
    "        self.losses = {'batch':[], 'epoch':[]}\n",
    "        self.accuracy = {'batch':[], 'epoch':[]}\n",
    "        self.val_loss = {'batch':[], 'epoch':[]}\n",
    "        self.val_acc = {'batch':[], 'epoch':[]}\n",
    "\n",
    "    def on_batch_end(self, batch, logs={}):\n",
    "        self.losses['batch'].append(logs.get('loss'))\n",
    "        self.accuracy['batch'].append(logs.get('acc'))\n",
    "        self.val_loss['batch'].append(logs.get('val_loss'))\n",
    "        self.val_acc['batch'].append(logs.get('val_acc'))\n",
    "\n",
    "    def on_epoch_end(self, batch, logs={}):\n",
    "        self.losses['epoch'].append(logs.get('loss'))\n",
    "        self.accuracy['epoch'].append(logs.get('acc'))\n",
    "        self.val_loss['epoch'].append(logs.get('val_loss'))\n",
    "        self.val_acc['epoch'].append(logs.get('val_acc'))\n",
    "\n",
    "    def loss_plot(self, loss_type):\n",
    "        iters = range(len(self.losses[loss_type]))\n",
    "        plt.figure()\n",
    "        # acc\n",
    "        plt.plot(iters, self.accuracy[loss_type], 'r', label='train acc')\n",
    "        # loss\n",
    "        plt.plot(iters, self.losses[loss_type], 'g', label='train loss')\n",
    "        if loss_type == 'epoch':\n",
    "            # val_acc\n",
    "            plt.plot(iters, self.val_acc[loss_type], 'b', label='val acc')\n",
    "            # val_loss\n",
    "            plt.plot(iters, self.val_loss[loss_type], 'k', label='val loss')\n",
    "        plt.grid(True)\n",
    "        plt.xlabel(loss_type)\n",
    "        plt.ylabel('acc-loss')\n",
    "        plt.legend(loc=\"upper right\")\n",
    "        plt.show()"
   ]
  },
  {
   "cell_type": "code",
   "execution_count": 3,
   "metadata": {},
   "outputs": [],
   "source": [
    "file_train=\"zzww_parton_train400000.csv\"\n",
    "data_train=np.loadtxt(file_train,delimiter=',')\n",
    "data_train_example=data_train[:400000,1:]\n",
    "data_train_label=data_train[:400000,0]\n",
    "\n",
    "file_val=\"zzww_parton_val80000.csv\"\n",
    "data_val=np.loadtxt(file_val,delimiter=',')\n",
    "data_val_example=data_val[:80000,1:]\n",
    "data_val_label=data_val[:80000,0]\n",
    "\n",
    "file_test=\"zzww_parton_test80000.csv\"\n",
    "data_test=np.loadtxt(file_test,delimiter=',')\n",
    "data_test_example=data_test[:80000,1:]\n",
    "data_test_label=data_test[:80000,0]\n"
   ]
  },
  {
   "cell_type": "code",
   "execution_count": 4,
   "metadata": {},
   "outputs": [
    {
     "name": "stdout",
     "output_type": "stream",
     "text": [
      "_________________________________________________________________\n",
      "Layer (type)                 Output Shape              Param #   \n",
      "=================================================================\n",
      "dense_1 (Dense)              (None, 16)                272       \n",
      "_________________________________________________________________\n",
      "activation_1 (Activation)    (None, 16)                0         \n",
      "_________________________________________________________________\n",
      "dense_2 (Dense)              (None, 16)                272       \n",
      "_________________________________________________________________\n",
      "activation_2 (Activation)    (None, 16)                0         \n",
      "_________________________________________________________________\n",
      "dense_3 (Dense)              (None, 16)                272       \n",
      "_________________________________________________________________\n",
      "activation_3 (Activation)    (None, 16)                0         \n",
      "_________________________________________________________________\n",
      "dense_4 (Dense)              (None, 16)                272       \n",
      "_________________________________________________________________\n",
      "activation_4 (Activation)    (None, 16)                0         \n",
      "_________________________________________________________________\n",
      "dense_5 (Dense)              (None, 16)                272       \n",
      "_________________________________________________________________\n",
      "activation_5 (Activation)    (None, 16)                0         \n",
      "_________________________________________________________________\n",
      "dense_6 (Dense)              (None, 16)                272       \n",
      "_________________________________________________________________\n",
      "activation_6 (Activation)    (None, 16)                0         \n",
      "_________________________________________________________________\n",
      "dense_7 (Dense)              (None, 1)                 17        \n",
      "_________________________________________________________________\n",
      "activation_7 (Activation)    (None, 1)                 0         \n",
      "=================================================================\n",
      "Total params: 1,649\n",
      "Trainable params: 1,649\n",
      "Non-trainable params: 0\n",
      "_________________________________________________________________\n"
     ]
    }
   ],
   "source": [
    "model.add(Dense(units=16, input_dim=16))\n",
    "model.add(Activation(\"relu\"))\n",
    "model.add(Dense(units=16))\n",
    "model.add(Activation(\"relu\"))\n",
    "model.add(Dense(units=16))\n",
    "model.add(Activation(\"relu\"))\n",
    "model.add(Dense(units=16))\n",
    "model.add(Activation(\"relu\"))\n",
    "model.add(Dense(units=16))\n",
    "model.add(Activation(\"relu\"))\n",
    "model.add(Dense(units=16))\n",
    "model.add(Activation(\"relu\"))\n",
    "model.add(Dense(units=1))\n",
    "model.add(Activation(\"sigmoid\"))\n",
    "model.summary()\n",
    "model.compile(loss='binary_crossentropy',optimizer=Adam(lr=0.001, beta_1=0.9, beta_2=0.999, epsilon=1e-08),metrics=['accuracy'])\n",
    "history=LossHistory()\n",
    "early_stopping = EarlyStopping(monitor='val_loss', patience=5)"
   ]
  },
  {
   "cell_type": "code",
   "execution_count": 5,
   "metadata": {},
   "outputs": [
    {
     "name": "stdout",
     "output_type": "stream",
     "text": [
      "Train on 400000 samples, validate on 80000 samples\n",
      "Epoch 1/500\n",
      "400000/400000 [==============================] - 18s - loss: 0.4165 - acc: 0.8179 - val_loss: 0.3690 - val_acc: 0.8425\n",
      "Epoch 2/500\n",
      "400000/400000 [==============================] - 19s - loss: 0.3530 - acc: 0.8515 - val_loss: 0.3382 - val_acc: 0.8576\n",
      "Epoch 3/500\n",
      "400000/400000 [==============================] - 19s - loss: 0.3277 - acc: 0.8608 - val_loss: 0.3251 - val_acc: 0.8613\n",
      "Epoch 4/500\n",
      "400000/400000 [==============================] - 19s - loss: 0.3128 - acc: 0.8671 - val_loss: 0.3064 - val_acc: 0.8682\n",
      "Epoch 5/500\n",
      "400000/400000 [==============================] - 18s - loss: 0.3026 - acc: 0.8705 - val_loss: 0.2968 - val_acc: 0.8737\n",
      "Epoch 6/500\n",
      "400000/400000 [==============================] - 18s - loss: 0.2950 - acc: 0.8733 - val_loss: 0.2952 - val_acc: 0.8731\n",
      "Epoch 7/500\n",
      "400000/400000 [==============================] - 18s - loss: 0.2893 - acc: 0.8754 - val_loss: 0.2980 - val_acc: 0.8702\n",
      "Epoch 8/500\n",
      "400000/400000 [==============================] - 18s - loss: 0.2861 - acc: 0.8765 - val_loss: 0.2859 - val_acc: 0.8765\n",
      "Epoch 9/500\n",
      "400000/400000 [==============================] - 19s - loss: 0.2830 - acc: 0.8776 - val_loss: 0.2813 - val_acc: 0.8780\n",
      "Epoch 10/500\n",
      "400000/400000 [==============================] - 19s - loss: 0.2804 - acc: 0.8789 - val_loss: 0.2899 - val_acc: 0.8755\n",
      "Epoch 11/500\n",
      "400000/400000 [==============================] - 18s - loss: 0.2781 - acc: 0.8797 - val_loss: 0.2809 - val_acc: 0.8789\n",
      "Epoch 12/500\n",
      "400000/400000 [==============================] - 18s - loss: 0.2755 - acc: 0.8809 - val_loss: 0.2742 - val_acc: 0.8809\n",
      "Epoch 13/500\n",
      "400000/400000 [==============================] - 18s - loss: 0.2739 - acc: 0.8822 - val_loss: 0.2722 - val_acc: 0.8817\n",
      "Epoch 14/500\n",
      "400000/400000 [==============================] - 18s - loss: 0.2716 - acc: 0.8826 - val_loss: 0.2719 - val_acc: 0.8824\n",
      "Epoch 15/500\n",
      "400000/400000 [==============================] - 18s - loss: 0.2701 - acc: 0.8833 - val_loss: 0.2706 - val_acc: 0.8820\n",
      "Epoch 16/500\n",
      "400000/400000 [==============================] - 16s - loss: 0.2684 - acc: 0.8839 - val_loss: 0.2728 - val_acc: 0.8820\n",
      "Epoch 17/500\n",
      "400000/400000 [==============================] - 15s - loss: 0.2666 - acc: 0.8847 - val_loss: 0.2739 - val_acc: 0.8823\n",
      "Epoch 18/500\n",
      "400000/400000 [==============================] - 19s - loss: 0.2654 - acc: 0.8853 - val_loss: 0.2640 - val_acc: 0.8869\n",
      "Epoch 19/500\n",
      "400000/400000 [==============================] - 18s - loss: 0.2640 - acc: 0.8860 - val_loss: 0.2672 - val_acc: 0.8854\n",
      "Epoch 20/500\n",
      "400000/400000 [==============================] - 19s - loss: 0.2625 - acc: 0.8867 - val_loss: 0.2627 - val_acc: 0.8861\n",
      "Epoch 21/500\n",
      "400000/400000 [==============================] - 19s - loss: 0.2618 - acc: 0.8868 - val_loss: 0.2614 - val_acc: 0.8874\n",
      "Epoch 22/500\n",
      "400000/400000 [==============================] - 19s - loss: 0.2608 - acc: 0.8875 - val_loss: 0.2587 - val_acc: 0.8887\n",
      "Epoch 23/500\n",
      "400000/400000 [==============================] - 19s - loss: 0.2596 - acc: 0.8877 - val_loss: 0.2567 - val_acc: 0.8882\n",
      "Epoch 24/500\n",
      "400000/400000 [==============================] - 19s - loss: 0.2584 - acc: 0.8879 - val_loss: 0.2661 - val_acc: 0.8863\n",
      "Epoch 25/500\n",
      "400000/400000 [==============================] - 19s - loss: 0.2578 - acc: 0.8886 - val_loss: 0.2589 - val_acc: 0.8875\n",
      "Epoch 26/500\n",
      "400000/400000 [==============================] - 19s - loss: 0.2570 - acc: 0.8886 - val_loss: 0.2567 - val_acc: 0.8887\n",
      "Epoch 27/500\n",
      "400000/400000 [==============================] - 19s - loss: 0.2562 - acc: 0.8890 - val_loss: 0.2555 - val_acc: 0.8896\n",
      "Epoch 28/500\n",
      "400000/400000 [==============================] - 19s - loss: 0.2552 - acc: 0.8895 - val_loss: 0.2613 - val_acc: 0.8872\n",
      "Epoch 29/500\n",
      "400000/400000 [==============================] - 19s - loss: 0.2544 - acc: 0.8901 - val_loss: 0.2552 - val_acc: 0.8893\n",
      "Epoch 30/500\n",
      "400000/400000 [==============================] - 19s - loss: 0.2536 - acc: 0.8903 - val_loss: 0.2489 - val_acc: 0.8920\n",
      "Epoch 31/500\n",
      "400000/400000 [==============================] - 22s - loss: 0.2533 - acc: 0.8903 - val_loss: 0.2582 - val_acc: 0.8893\n",
      "Epoch 32/500\n",
      "400000/400000 [==============================] - 22s - loss: 0.2525 - acc: 0.8909 - val_loss: 0.2572 - val_acc: 0.8889\n",
      "Epoch 33/500\n",
      "400000/400000 [==============================] - 23s - loss: 0.2522 - acc: 0.8910 - val_loss: 0.2496 - val_acc: 0.8916\n",
      "Epoch 34/500\n",
      "400000/400000 [==============================] - 23s - loss: 0.2510 - acc: 0.8918 - val_loss: 0.2514 - val_acc: 0.8912\n",
      "Epoch 35/500\n",
      "400000/400000 [==============================] - 24s - loss: 0.2509 - acc: 0.8913 - val_loss: 0.2556 - val_acc: 0.8903\n",
      "Epoch 36/500\n",
      "400000/400000 [==============================] - 23s - loss: 0.2505 - acc: 0.8919 - val_loss: 0.2521 - val_acc: 0.8907\n"
     ]
    },
    {
     "data": {
      "text/plain": [
       "<keras.callbacks.History at 0x10defe990>"
      ]
     },
     "execution_count": 5,
     "metadata": {},
     "output_type": "execute_result"
    }
   ],
   "source": [
    "model.fit(data_train_example,data_train_label,epochs=500,batch_size=100,validation_data=(data_val_example,data_val_label),callbacks=[history,early_stopping])"
   ]
  },
  {
   "cell_type": "markdown",
   "metadata": {},
   "source": [
    "model.save('mlpparton1632.h5')"
   ]
  },
  {
   "cell_type": "code",
   "execution_count": 6,
   "metadata": {},
   "outputs": [
    {
     "name": "stdout",
     "output_type": "stream",
     "text": [
      "77400/80000 [============================>.] - ETA: 0s"
     ]
    }
   ],
   "source": [
    "score=model.evaluate(data_test_example,data_test_label,batch_size=100)"
   ]
  },
  {
   "cell_type": "code",
   "execution_count": 7,
   "metadata": {},
   "outputs": [
    {
     "name": "stdout",
     "output_type": "stream",
     "text": [
      "('test accuracy is:', 0.8901875013113022)\n"
     ]
    }
   ],
   "source": [
    "print ('test accuracy is:',score[1])"
   ]
  },
  {
   "cell_type": "code",
   "execution_count": 8,
   "metadata": {},
   "outputs": [
    {
     "data": {
      "image/png": "[encoded data removed]",
      "text/plain": [
       "<matplotlib.figure.Figure at 0x181a9e2590>"
      ]
     },
     "metadata": {},
     "output_type": "display_data"
    }
   ],
   "source": [
    "history.loss_plot('epoch')"
   ]
  },
  {
   "cell_type": "code",
   "execution_count": null,
   "metadata": {},
   "outputs": [],
   "source": []
  }
 ],
 "metadata": {
  "kernelspec": {
   "display_name": "Python 3",
   "language": "python",
   "name": "python3"
  },
  "language_info": {
   "codemirror_mode": {
    "name": "ipython",
    "version": 2
   },
   "file_extension": ".py",
   "mimetype": "text/x-python",
   "name": "python",
   "nbconvert_exporter": "python",
   "pygments_lexer": "ipython2",
   "version": "2.7.14"
  }
 },
 "nbformat": 4,
 "nbformat_minor": 2
}
