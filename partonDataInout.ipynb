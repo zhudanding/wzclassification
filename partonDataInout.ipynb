{
 "cells": [
  {
   "cell_type": "code",
   "execution_count": 1,
   "metadata": {},
   "outputs": [],
   "source": [
    "import tensorflow as tf\n",
    "from __future__ import print_function\n",
    "import numpy as np\n",
    "from numpy import *"
   ]
  },
  {
   "cell_type": "code",
   "execution_count": 2,
   "metadata": {},
   "outputs": [],
   "source": [
    "file_ww1=\"TF_ww_ccds100000parton.csv\"\n",
    "file_ww2=\"TF_ww_ccbs100000parton.csv\"\n",
    "file_ww3=\"TF_ww_cusd100000parton.csv\"\n",
    "file_ww4=\"TF_ww_uubd100000parton.csv\"\n",
    "file_zz1=\"TF_zz_dtdt199800parton.csv\"\n",
    "file_zz2=\"TF_zz_utut199800parton.csv\"\n",
    "data_ww1=np.loadtxt(file_ww1,delimiter=',')\n",
    "data_ww2=np.loadtxt(file_ww2,delimiter=',')\n",
    "data_ww3=np.loadtxt(file_ww3,delimiter=',')\n",
    "data_ww4=np.loadtxt(file_ww4,delimiter=',')\n",
    "data_zz1=np.loadtxt(file_zz1,delimiter=',')\n",
    "data_zz2=np.loadtxt(file_zz2,delimiter=',')\n",
    "#print (shape(data_ww))\n",
    "#print (shape(data_zz))\n",
    "data_ww1train=data_ww1[:50001]\n",
    "data_ww2train=data_ww2[:50001]\n",
    "data_ww3train=data_ww3[:50001]\n",
    "data_ww4train=data_ww4[:50001]\n",
    "data_zz1train=data_zz1[:100001]\n",
    "data_zz2train=data_zz2[:100001]\n",
    "data_ww1val=data_ww1[50001:60001]\n",
    "data_ww2val=data_ww2[50001:60001]\n",
    "data_ww3val=data_ww3[50001:60001]\n",
    "data_ww4val=data_ww4[50001:60001]\n",
    "data_zz1val=data_zz1[100001:120001]\n",
    "data_zz2val=data_zz2[100001:120001]\n",
    "data_ww1test=data_ww1[60001:70001]\n",
    "data_ww2test=data_ww2[60001:70001]\n",
    "data_ww3test=data_ww3[60001:70001]\n",
    "data_ww4test=data_ww4[60001:70001]\n",
    "data_zz1test=data_zz1[120001:140001]\n",
    "data_zz2test=data_zz2[120001:140001]\n",
    "data_train=np.concatenate((data_ww1train,data_ww2train,data_ww3train,data_ww4train,data_zz1train,data_zz2train))\n",
    "data_val=np.concatenate((data_ww1val,data_ww2val,data_ww3val,data_ww4val,data_zz1val,data_zz2val))\n",
    "data_test=np.concatenate((data_ww1test,data_ww2test,data_ww3test,data_ww4test,data_zz1test,data_zz2test))\n",
    "np.random.shuffle(data_train)\n",
    "np.random.shuffle((data_val))\n",
    "np.random.shuffle((data_test))\n",
    "np.savetxt('zzww_parton_train400000.csv',data_train,delimiter=',')\n",
    "np.savetxt('zzww_parton_val80000.csv',data_val,delimiter=',')\n",
    "np.savetxt('zzww_parton_test80000.csv',data_test,delimiter=',')"
   ]
  },
  {
   "cell_type": "code",
   "execution_count": null,
   "metadata": {},
   "outputs": [],
   "source": []
  }
 ],
 "metadata": {
  "kernelspec": {
   "display_name": "Python 2",
   "language": "python",
   "name": "python2"
  },
  "language_info": {
   "codemirror_mode": {
    "name": "ipython",
    "version": 2
   },
   "file_extension": ".py",
   "mimetype": "text/x-python",
   "name": "python",
   "nbconvert_exporter": "python",
   "pygments_lexer": "ipython2",
   "version": "2.7.14"
  }
 },
 "nbformat": 4,
 "nbformat_minor": 2
}
