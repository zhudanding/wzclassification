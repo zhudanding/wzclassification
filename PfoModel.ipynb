{
 "cells": [
  {
   "cell_type": "code",
   "execution_count": 1,
   "metadata": {},
   "outputs": [
    {
     "name": "stderr",
     "output_type": "stream",
     "text": [
      "Using TensorFlow backend.\n"
     ]
    }
   ],
   "source": [
    "from keras.models import Sequential\n",
    "model = Sequential()\n",
    "from keras.layers import Dense, Activation\n",
    "from keras.optimizers import SGD\n",
    "from keras.optimizers import Adam\n",
    "import numpy as np\n",
    "from keras.models import load_model\n",
    "import matplotlib.pyplot as plt\n",
    "import keras\n",
    "from keras.callbacks import EarlyStopping\n",
    "%matplotlib inline"
   ]
  },
  {
   "cell_type": "code",
   "execution_count": 2,
   "metadata": {},
   "outputs": [],
   "source": [
    "file_train=\"zzww_pfo_train400000.csv\"\n",
    "data_train=np.loadtxt(file_train,delimiter=',')\n",
    "data_train_example=data_train[:400000,1:]\n",
    "data_train_label=data_train[:400000,0]\n",
    "\n",
    "file_val=\"zzww_pfo_val80000.csv\"\n",
    "data_val=np.loadtxt(file_val,delimiter=',')\n",
    "data_val_example=data_val[:80000,1:]\n",
    "data_val_label=data_val[:80000,0]\n",
    "\n",
    "file_test=\"zzww_pfo_test80000.csv\"\n",
    "data_test=np.loadtxt(file_test,delimiter=',')\n",
    "data_test_example=data_test[:80000,1:]\n",
    "data_test_label=data_test[:80000,0]\n",
    "\n"
   ]
  },
  {
   "cell_type": "code",
   "execution_count": 3,
   "metadata": {},
   "outputs": [],
   "source": [
    "class LossHistory(keras.callbacks.Callback):\n",
    "    def on_train_begin(self, logs={}):\n",
    "        self.losses = {'batch':[], 'epoch':[]}\n",
    "        self.accuracy = {'batch':[], 'epoch':[]}\n",
    "        self.val_loss = {'batch':[], 'epoch':[]}\n",
    "        self.val_acc = {'batch':[], 'epoch':[]}\n",
    "\n",
    "    def on_batch_end(self, batch, logs={}):\n",
    "        self.losses['batch'].append(logs.get('loss'))\n",
    "        self.accuracy['batch'].append(logs.get('acc'))\n",
    "        self.val_loss['batch'].append(logs.get('val_loss'))\n",
    "        self.val_acc['batch'].append(logs.get('val_acc'))\n",
    "\n",
    "    def on_epoch_end(self, batch, logs={}):\n",
    "        self.losses['epoch'].append(logs.get('loss'))\n",
    "        self.accuracy['epoch'].append(logs.get('acc'))\n",
    "        self.val_loss['epoch'].append(logs.get('val_loss'))\n",
    "        self.val_acc['epoch'].append(logs.get('val_acc'))\n",
    "\n",
    "    def loss_plot(self, loss_type):\n",
    "        iters = range(len(self.losses[loss_type]))\n",
    "        plt.figure()\n",
    "        # acc\n",
    "        plt.plot(iters, self.accuracy[loss_type], 'r', label='train acc')\n",
    "        # loss\n",
    "        plt.plot(iters, self.losses[loss_type], 'g', label='train loss')\n",
    "        if loss_type == 'epoch':\n",
    "            # val_acc\n",
    "            plt.plot(iters, self.val_acc[loss_type], 'b', label='val acc')\n",
    "            # val_loss\n",
    "            plt.plot(iters, self.val_loss[loss_type], 'k', label='val loss')\n",
    "        plt.grid(True)\n",
    "        plt.xlabel(loss_type)\n",
    "        plt.ylabel('acc-loss')\n",
    "        plt.legend(loc=\"upper right\")\n",
    "        plt.show()"
   ]
  },
  {
   "cell_type": "markdown",
   "metadata": {},
   "source": [
    "print(data_train_label[:100])"
   ]
  },
  {
   "cell_type": "code",
   "execution_count": 4,
   "metadata": {},
   "outputs": [
    {
     "name": "stdout",
     "output_type": "stream",
     "text": [
      "_________________________________________________________________\n",
      "Layer (type)                 Output Shape              Param #   \n",
      "=================================================================\n",
      "dense_1 (Dense)              (None, 200)               80200     \n",
      "_________________________________________________________________\n",
      "activation_1 (Activation)    (None, 200)               0         \n",
      "_________________________________________________________________\n",
      "dense_2 (Dense)              (None, 200)               40200     \n",
      "_________________________________________________________________\n",
      "activation_2 (Activation)    (None, 200)               0         \n",
      "_________________________________________________________________\n",
      "dense_3 (Dense)              (None, 200)               40200     \n",
      "_________________________________________________________________\n",
      "activation_3 (Activation)    (None, 200)               0         \n",
      "_________________________________________________________________\n",
      "dense_4 (Dense)              (None, 200)               40200     \n",
      "_________________________________________________________________\n",
      "activation_4 (Activation)    (None, 200)               0         \n",
      "_________________________________________________________________\n",
      "dense_5 (Dense)              (None, 200)               40200     \n",
      "_________________________________________________________________\n",
      "activation_5 (Activation)    (None, 200)               0         \n",
      "_________________________________________________________________\n",
      "dense_6 (Dense)              (None, 1)                 201       \n",
      "_________________________________________________________________\n",
      "activation_6 (Activation)    (None, 1)                 0         \n",
      "=================================================================\n",
      "Total params: 241,201\n",
      "Trainable params: 241,201\n",
      "Non-trainable params: 0\n",
      "_________________________________________________________________\n"
     ]
    }
   ],
   "source": [
    "model.add(Dense(units=200, input_dim=400))\n",
    "model.add(Activation(\"relu\"))\n",
    "model.add(Dense(units=200))\n",
    "model.add(Activation(\"relu\"))\n",
    "model.add(Dense(units=200))\n",
    "model.add(Activation(\"relu\"))\n",
    "model.add(Dense(units=200))\n",
    "model.add(Activation(\"relu\"))\n",
    "model.add(Dense(units=200))\n",
    "model.add(Activation(\"relu\"))\n",
    "model.add(Dense(units=1))\n",
    "model.add(Activation(\"sigmoid\"))\n",
    "model.summary()\n",
    "model.compile(loss='binary_crossentropy',optimizer=Adam(lr=0.001, beta_1=0.9, beta_2=0.999, epsilon=1e-08),metrics=['accuracy'])\n",
    "history=LossHistory()\n",
    "early_stopping = EarlyStopping(monitor='val_loss', patience=5)"
   ]
  },
  {
   "cell_type": "code",
   "execution_count": 5,
   "metadata": {},
   "outputs": [
    {
     "name": "stdout",
     "output_type": "stream",
     "text": [
      "Train on 400000 samples, validate on 80000 samples\n",
      "Epoch 1/500\n",
      "400000/400000 [==============================] - 47s - loss: 0.6594 - acc: 0.5999 - val_loss: 0.6466 - val_acc: 0.6157\n",
      "Epoch 2/500\n",
      "400000/400000 [==============================] - 36s - loss: 0.6354 - acc: 0.6306 - val_loss: 0.6414 - val_acc: 0.6239\n",
      "Epoch 3/500\n",
      "400000/400000 [==============================] - 37s - loss: 0.6177 - acc: 0.6490 - val_loss: 0.6381 - val_acc: 0.6264\n",
      "Epoch 4/500\n",
      "400000/400000 [==============================] - 37s - loss: 0.6008 - acc: 0.6660 - val_loss: 0.6387 - val_acc: 0.6271\n",
      "Epoch 5/500\n",
      "400000/400000 [==============================] - 39s - loss: 0.5831 - acc: 0.6806 - val_loss: 0.6558 - val_acc: 0.6240\n",
      "Epoch 6/500\n",
      "400000/400000 [==============================] - 38s - loss: 0.5664 - acc: 0.6951 - val_loss: 0.6620 - val_acc: 0.6237\n",
      "Epoch 7/500\n",
      "400000/400000 [==============================] - 37s - loss: 0.5494 - acc: 0.7083 - val_loss: 0.6672 - val_acc: 0.6205\n",
      "Epoch 8/500\n",
      "400000/400000 [==============================] - 39s - loss: 0.5333 - acc: 0.7211 - val_loss: 0.6885 - val_acc: 0.6167\n",
      "Epoch 9/500\n",
      "400000/400000 [==============================] - 37s - loss: 0.5174 - acc: 0.7325 - val_loss: 0.7168 - val_acc: 0.6163\n"
     ]
    },
    {
     "data": {
      "text/plain": [
       "<keras.callbacks.History at 0x116e74c50>"
      ]
     },
     "execution_count": 5,
     "metadata": {},
     "output_type": "execute_result"
    }
   ],
   "source": [
    "model.fit(data_train_example,data_train_label,epochs=500,batch_size=100,validation_data=(data_val_example,data_val_label),callbacks=[history,early_stopping])"
   ]
  },
  {
   "cell_type": "code",
   "execution_count": 6,
   "metadata": {},
   "outputs": [
    {
     "name": "stdout",
     "output_type": "stream",
     "text": [
      "79500/80000 [============================>.] - ETA: 0s"
     ]
    }
   ],
   "source": [
    "score=model.evaluate(data_test_example,data_test_label,batch_size=100)"
   ]
  },
  {
   "cell_type": "code",
   "execution_count": 7,
   "metadata": {},
   "outputs": [
    {
     "name": "stdout",
     "output_type": "stream",
     "text": [
      "('test accuracy is:', 0.61372499875724318)\n"
     ]
    }
   ],
   "source": [
    "print ('test accuracy is:',score[1])"
   ]
  },
  {
   "cell_type": "code",
   "execution_count": 8,
   "metadata": {},
   "outputs": [
    {
     "data": {
      "image/png": "[encoded data removed]",
      "text/plain": [
       "<matplotlib.figure.Figure at 0x181b04e750>"
      ]
     },
     "metadata": {},
     "output_type": "display_data"
    }
   ],
   "source": [
    "history.loss_plot('epoch')"
   ]
  },
  {
   "cell_type": "code",
   "execution_count": null,
   "metadata": {},
   "outputs": [],
   "source": []
  }
 ],
 "metadata": {
  "kernelspec": {
   "display_name": "Python 3",
   "language": "python",
   "name": "python3"
  },
  "language_info": {
   "codemirror_mode": {
    "name": "ipython",
    "version": 2
   },
   "file_extension": ".py",
   "mimetype": "text/x-python",
   "name": "python",
   "nbconvert_exporter": "python",
   "pygments_lexer": "ipython2",
   "version": "2.7.14"
  }
 },
 "nbformat": 4,
 "nbformat_minor": 2
}
